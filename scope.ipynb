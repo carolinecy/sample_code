{
 "cells": [
  {
   "cell_type": "code",
   "execution_count": 15,
   "metadata": {
    "collapsed": false
   },
   "outputs": [
    {
     "name": "stdout",
     "output_type": "stream",
     "text": [
      "60\n"
     ]
    }
   ],
   "source": [
    "x = 10     # global\n",
    "y = 20     # global\n",
    "z = 30     # global\n",
    "\n",
    "def add_three_nums(a, b, c):  # 'a', 'b', and 'c' are arguments, which are all local to this function.\n",
    "    total = a + b + c         # 'total' is a local variable within 'add_two_nums()'\n",
    "    return total\n",
    "\n",
    "a = add_three_nums(x, y, z)\n",
    "print(a)"
   ]
  },
  {
   "cell_type": "code",
   "execution_count": 17,
   "metadata": {
    "collapsed": false
   },
   "outputs": [
    {
     "name": "stdout",
     "output_type": "stream",
     "text": [
      "30\n",
      "300\n"
     ]
    }
   ],
   "source": [
    "x = 10     # global variable\n",
    "y = 20     # global variable\n",
    "\n",
    "def a_func(n, m):\n",
    "    k = 30\n",
    "    def add_two_nums_and_ten(a, b):            # this function is local to 'a_func()'\n",
    "        total = a + b + k                      # 'k' is accessible\n",
    "        return total                           # total is local to 'add_three_num()'\n",
    "\n",
    "    print(k)           # 'k' is in the current scope.\n",
    "    # print(total)     # 'total' is outside of the current scope. This will give you an error.\n",
    "\n",
    "    result = 0\n",
    "    for i in range(5):\n",
    "        result += add_two_nums_and_ten(n, m)    # 'add_two_nums_and_ten()' is only accessible in 'a_func()'\n",
    "\n",
    "    return result\n",
    "\n",
    "# add_two_nums_and_ten(x, y)  # this will give you an error.\n",
    "\n",
    "a = a_func(x, y)     # ONLY 'a', 'x' and 'y' are in the current scope (i.e., global)\n",
    "print(a)"
   ]
  }
 ],
 "metadata": {
  "kernelspec": {
   "display_name": "Python 3",
   "language": "python",
   "name": "python3"
  },
  "language_info": {
   "codemirror_mode": {
    "name": "ipython",
    "version": 3
   },
   "file_extension": ".py",
   "mimetype": "text/x-python",
   "name": "python",
   "nbconvert_exporter": "python",
   "pygments_lexer": "ipython3",
   "version": "3.5.1"
  }
 },
 "nbformat": 4,
 "nbformat_minor": 0
}
