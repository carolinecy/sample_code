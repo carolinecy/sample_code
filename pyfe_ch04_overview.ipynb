{
 "cells": [
  {
   "cell_type": "markdown",
   "metadata": {},
   "source": [
    "Python for Everybody\n",
    "## Chpater 04 Functions"
   ]
  },
  {
   "cell_type": "code",
   "execution_count": null,
   "metadata": {
    "collapsed": false
   },
   "outputs": [],
   "source": [
    "# 4.1 Function Calls\n",
    "\n",
    "print( type(32) )\n",
    "\n",
    "# Given an argument (of any type), type() returns its type.\n",
    "# This means you can assign the returned value to a variable. Here's an example.\n",
    "\n",
    "t = type(32)\n",
    "print(t)\n"
   ]
  },
  {
   "cell_type": "code",
   "execution_count": null,
   "metadata": {
    "collapsed": false
   },
   "outputs": [],
   "source": [
    "# 4.2 Built-in Functions\n",
    "\n",
    "result = len(\"abcde\")     # len is a built-in function that returns the length of a string\n",
    "print(result)\n",
    "\n",
    "result = max(10, 20)\n",
    "print(result)\n",
    "\n",
    "result = min(100, 15)\n",
    "print(result)\n",
    "\n",
    "# The textbook uses min() and max() with strings. Did you figure out what's going on?\n",
    "# See the link below fore other built-in functions."
   ]
  },
  {
   "cell_type": "markdown",
   "metadata": {},
   "source": [
    "**Reference: Built-in Functions:**\n",
    "\n",
    "Here is a list of built-in functions, in case you are intersted.\n",
    "https://docs.python.org/3/library/functions.html"
   ]
  },
  {
   "cell_type": "code",
   "execution_count": null,
   "metadata": {
    "collapsed": false
   },
   "outputs": [],
   "source": [
    "# 4.3 Type Conversion Functions\n",
    "\n",
    "s = \"32\"      # string\n",
    "i = int(s)    # s is converted into an integer.\n",
    "\n",
    "s = \"CMU\"     # string\n",
    "# i = int(s)  # This statement results in an error. You can't convert a chracers into an integer.\n",
    "\n",
    "name = \"John\" # string\n",
    "age  = 32     # integer\n",
    "\n",
    "print(name + \" is \" + str(age) + \".\")\n",
    "print(name + \" will be \" + str(age + 10) + \" in 10 years.\")\n"
   ]
  },
  {
   "cell_type": "code",
   "execution_count": null,
   "metadata": {
    "collapsed": false
   },
   "outputs": [],
   "source": [
    "# 4.4 Random Numbers\n",
    "\n",
    "import random     # We need to 'import' the random module.\n",
    "\n",
    "# Why do we need to repeat 'random'? \n",
    "# The first one is the module name. The 2nd one is the function.\n",
    "print(random.random())\n",
    "\n",
    "# 'randint()' is a function defined in the 'random' module.\n",
    "print(random.randint(5, 10)) \n"
   ]
  },
  {
   "cell_type": "markdown",
   "metadata": {},
   "source": [
    "**Refernece: random module:**\n",
    "\n",
    "Here is a page about the random module. It looks a bit scary, but you'll get used to it soon. The page list all the 'functions' defined in the randome module.\n",
    "https://docs.python.org/3/library/random.html"
   ]
  },
  {
   "cell_type": "code",
   "execution_count": null,
   "metadata": {
    "collapsed": false
   },
   "outputs": [],
   "source": [
    "# 4.5 Math FUnctions\n",
    "\n",
    "import math\n",
    "\n",
    "print(math.ceil(3.45))\n",
    "print(math.floor(3.45))\n",
    "\n",
    "# There are many math functions, but don't worry about them for now. You can look them up when you need them."
   ]
  },
  {
   "cell_type": "code",
   "execution_count": null,
   "metadata": {
    "collapsed": false
   },
   "outputs": [],
   "source": [
    "# 4.6 Adding New Functions\n",
    "\n",
    "def sing_imaeine():\n",
    "    print(\"You may think that I’m a dreamer\")\n",
    "    print(\"But I’m not the only one\")\n",
    "    print(\"...\")\n",
    "\n",
    "sing_imagine()"
   ]
  },
  {
   "cell_type": "code",
   "execution_count": null,
   "metadata": {
    "collapsed": false
   },
   "outputs": [],
   "source": [
    "# 4.7 Definitions and Uses\n",
    "\n",
    "def sing_imagine():\n",
    "    print(\"You may think that I’m a dreamer\")\n",
    "    print(\"But I’m not the only one\")\n",
    "    print(\"...\")\n",
    "    \n",
    "def sing_three_times():\n",
    "    sing_imagine()\n",
    "    sing_imagine()\n",
    "    sing_imagine()\n",
    "\n"
   ]
  },
  {
   "cell_type": "code",
   "execution_count": null,
   "metadata": {
    "collapsed": false
   },
   "outputs": [],
   "source": [
    "# 4.8 Flow of Execution\n",
    "\n",
    "def sing_imagine():\n",
    "    print(\"You may think that I’m a dreamer\")\n",
    "    print(\"But I’m not the only one\")\n",
    "    print(\"...\")\n",
    "    \n",
    "def sing_three_times():\n",
    "    sing_imagine()\n",
    "    sing_imagine()\n",
    "    sing_imagine()\n",
    "\n",
    "sing_three_times()    # Try moving this to the top of this cell (above sing_imagine()), \n",
    "                      # then select **Kernel > Restart & Clear Output** in the menu and execute the cell.\n",
    "                      # Why do you get an error?\n",
    "\n",
    "                      # Switch the definitions of sing_three_times() and sing_imagine(),\n",
    "                      # then select *Kernel > Restart & Clear Output** in the menu, and execute the cell.\n",
    "                      # Why you don't get an error even though sing_imagine() is defined after it is used in\n",
    "                      # the definition of sing_three_times() ?"
   ]
  },
  {
   "cell_type": "code",
   "execution_count": null,
   "metadata": {
    "collapsed": false
   },
   "outputs": [],
   "source": [
    "# 4.9 Parameters and Arguments\n",
    "\n",
    "def print_twice(val):              # val is a parameter\n",
    "    print(val)\n",
    "    print(val)\n",
    "    \n",
    "print_twice(\"Sam\")                 # the value \"Sam\" is assigned to a parameter val.\n",
    "print_twice(100)                   # the value 100 is assigned to a parameter val.\n",
    "    \n",
    "    \n"
   ]
  },
  {
   "cell_type": "code",
   "execution_count": null,
   "metadata": {
    "collapsed": false
   },
   "outputs": [],
   "source": [
    "# 4.9 Parameteres and Arguments (cont.)\n",
    "    \n",
    "# Function with local variable\n",
    "\n",
    "def average_three_words(x, y, z):\n",
    "    total = x + y + z                       # total is a local variable\n",
    "    average = total/3                       # average is a local variable\n",
    "    print(average)\n",
    "\n",
    "average_three_words(3,4,5)\n",
    "\n",
    "print(total)  # This statement will results in an error. Why? \n",
    "              #'total' is local to the function 'average_three_words'. This means that \n",
    "              # it is only accessible within the scope of the function.\n"
   ]
  },
  {
   "cell_type": "code",
   "execution_count": null,
   "metadata": {
    "collapsed": false
   },
   "outputs": [],
   "source": [
    "# 4.10 Fruitful Functions and Void Functions\n",
    "\n",
    "# fruitful function\n",
    "def combine_first_last1(f, l):\n",
    "    return(f + \" \" + l)\n",
    "\n",
    "def combine_first_last2(f, l):\n",
    "    print(f + \" \" + l)\n",
    "\n",
    "full_name = combine_first_last1(\"John\", \"Smith\")\n",
    "print(full_name)\n",
    "\n",
    "print(\"----\")\n",
    "\n",
    "full_name = combine_first_last2(\"John\", \"Smith\")\n",
    "print(full_name)\n"
   ]
  },
  {
   "cell_type": "code",
   "execution_count": null,
   "metadata": {
    "collapsed": true
   },
   "outputs": [],
   "source": [
    "# 4.11 Why FUnctions?\n",
    "\n",
    "# If you aren't sure, read the text book."
   ]
  }
 ],
 "metadata": {
  "kernelspec": {
   "display_name": "Python 3",
   "language": "python",
   "name": "python3"
  },
  "language_info": {
   "codemirror_mode": {
    "name": "ipython",
    "version": 3
   },
   "file_extension": ".py",
   "mimetype": "text/x-python",
   "name": "python",
   "nbconvert_exporter": "python",
   "pygments_lexer": "ipython3",
   "version": "3.5.1"
  }
 },
 "nbformat": 4,
 "nbformat_minor": 0
}
