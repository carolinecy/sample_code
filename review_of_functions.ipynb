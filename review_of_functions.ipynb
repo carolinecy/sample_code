{
 "cells": [
  {
   "cell_type": "code",
   "execution_count": null,
   "metadata": {
    "collapsed": false
   },
   "outputs": [],
   "source": [
    "# sample function 1\n",
    "\n",
    "def add_two_numbers(a,b):      # the function takes 2 arguments: 'a' and 'b'\n",
    "    return a + b               # returns the sum of a and b\n",
    "\n",
    "x = add_two_numbers(3,5)\n",
    "print(x)\n",
    "\n",
    "# print(a)  # this does not work. why?"
   ]
  },
  {
   "cell_type": "code",
   "execution_count": null,
   "metadata": {
    "collapsed": false
   },
   "outputs": [],
   "source": [
    "# sample function 2\n",
    "\n",
    "def add_two_numbers(a,b):      # the function takes 2 arguments: 'a' and 'b'\n",
    "    result = a + b\n",
    "    return result              # returns the sum of a and b\n",
    "\n",
    "x = add_two_numbers(3,5)\n",
    "print(x)\n",
    "\n",
    "#print(result)   # this does not work. why?\n",
    "#print(a)        # this does not work. why?"
   ]
  },
  {
   "cell_type": "code",
   "execution_count": null,
   "metadata": {
    "collapsed": false
   },
   "outputs": [],
   "source": [
    "# sample function 3\n",
    "\n",
    "def add_two_numbers(a,b):      # the function takes 2 arguments: 'a' and 'b'\n",
    "    result = a + b             # notice that this function does not 'return' any values.\n",
    "\n",
    "x = add_two_numbers(3,5)\n",
    "print(x)                      "
   ]
  },
  {
   "cell_type": "code",
   "execution_count": null,
   "metadata": {
    "collapsed": false,
    "scrolled": true
   },
   "outputs": [],
   "source": [
    "# -----------------------------------\n",
    "# Define Functions\n",
    "# -----------------------------------\n",
    "\n",
    "def endswith_punct(w):\n",
    "    if w.endswith(\".\") or w.endswith(\",\") or w.endswith(\";\"):\n",
    "        return True\n",
    "    else:\n",
    "        return False\n",
    "\n",
    "def remove_punct(w):\n",
    "    return(w[:-1])                     # returns the string without the last chracter.\n",
    "    \n",
    "def print_words(p):\n",
    "    words = p.split()                  # split the paragraph into a list of words\n",
    "    for w in words:                    # for each word in the list of words\n",
    "        if endswith_punct(w):          # find out if the word 'w' ends with a punctuation chracter\n",
    "            w = remove_punct(w)        # re-assign 'w' with the word without the punctuation chracter\n",
    "        print(w)\n",
    "\n",
    "# -----------------------------------\n",
    "# Test Functions\n",
    "# ----------------------------------\n",
    "p = \"\"\"I was born in the Year 1632, in the City of York, of a good Family, \n",
    "tho' not of that Country, my Father being a Foreigner of Bremen, who settled \n",
    "irst at Hull; He got a good Estate by Merchandise, and leaving off his Trade, \n",
    "lived afterward at York, from whence he had married my Mother, whose Relations\n",
    "were named Robinson, a very good Family in that Country, and from whom I was \n",
    "called Robinson Kreutznaer; but by the usual Corruption of Words in England, \n",
    "we are now called, nay we call our selves, and write our Name Crusoe, and so \n",
    "my Companions always call'd me. \"\"\"\n",
    "\n",
    "print_words(p)"
   ]
  },
  {
   "cell_type": "code",
   "execution_count": null,
   "metadata": {
    "collapsed": true
   },
   "outputs": [],
   "source": []
  }
 ],
 "metadata": {
  "kernelspec": {
   "display_name": "Python 3",
   "language": "python",
   "name": "python3"
  },
  "language_info": {
   "codemirror_mode": {
    "name": "ipython",
    "version": 3
   },
   "file_extension": ".py",
   "mimetype": "text/x-python",
   "name": "python",
   "nbconvert_exporter": "python",
   "pygments_lexer": "ipython3",
   "version": "3.5.1"
  }
 },
 "nbformat": 4,
 "nbformat_minor": 0
}
