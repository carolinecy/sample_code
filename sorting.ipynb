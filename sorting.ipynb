{
 "cells": [
  {
   "cell_type": "markdown",
   "metadata": {},
   "source": [
    "## Sorting lists, dictionaries and tuples"
   ]
  },
  {
   "cell_type": "markdown",
   "metadata": {},
   "source": []
  },
  {
   "cell_type": "code",
   "execution_count": 16,
   "metadata": {
    "collapsed": false
   },
   "outputs": [
    {
     "name": "stdout",
     "output_type": "stream",
     "text": [
      "[1, 2, 3, 4, 5, 6, 7]\n",
      "[1, 5, 3, 4, 2, 6, 7]\n"
     ]
    }
   ],
   "source": [
    "# 'sorted' is a built-in function\n",
    "\n",
    "nums = [1,5,3,4,2,6,7]\n",
    "result = sorted(nums)\n",
    "\n",
    "print(result)      # 'sorted' returns a new list\n",
    "print(nums)        # the original list hasn't been changed\n"
   ]
  },
  {
   "cell_type": "code",
   "execution_count": 17,
   "metadata": {
    "collapsed": false
   },
   "outputs": [
    {
     "name": "stdout",
     "output_type": "stream",
     "text": [
      "None\n",
      "[1, 2, 3, 4, 5, 6, 7]\n"
     ]
    }
   ],
   "source": [
    "# list.sort() method\n",
    "\n",
    "nums = [1,5,3,4,2,6,7]\n",
    "result = nums.sort()\n",
    "\n",
    "print(result)      # list.sort() returns None\n",
    "print(nums)        # the original list has been modified\n"
   ]
  },
  {
   "cell_type": "code",
   "execution_count": 47,
   "metadata": {
    "collapsed": false
   },
   "outputs": [
    {
     "name": "stdout",
     "output_type": "stream",
     "text": [
      "['dog', 'kangaroo', 'octopus', 'penguin', 'snake', 'spider']\n"
     ]
    }
   ],
   "source": [
    "# Sorting a dictionary keys by values.\n",
    "\n",
    "import operator\n",
    "\n",
    "d = {'dog' : 4, \"kangaroo\" : 3, \"snake\": 0, \"penguin\" : 2, \"spider\" : 8, \"octopus\" : 2}\n",
    "\n",
    "# result = sorted(d, key=d.__getitem__)\n",
    "result = sorted(d, key=lambda legs: legs[0])\n",
    "print(result)\n"
   ]
  },
  {
   "cell_type": "markdown",
   "metadata": {},
   "source": [
    "### 9.04 Write a code that goes through the text from moby_dick.txt and finds the 5 most common words and their frequencies."
   ]
  },
  {
   "cell_type": "code",
   "execution_count": 48,
   "metadata": {
    "collapsed": false
   },
   "outputs": [
    {
     "name": "stdout",
     "output_type": "stream",
     "text": [
      "the: 10\n",
      "I: 9\n",
      "and: 7\n",
      "to: 5\n",
      "a: 5\n"
     ]
    }
   ],
   "source": [
    "# 9.04 sample answer\n",
    "\n",
    "from operator import itemgetter\n",
    "\n",
    "file = \"text/moby_dick.txt\"\n",
    "\n",
    "def fiveMostCommon(d):\n",
    "    def keyfunction(k):\n",
    "        return d[k]\n",
    "    l = []\n",
    "    for key in sorted(d, key=keyfunction, reverse=True)[:5]:\n",
    "        l.append((key, d[key]))\n",
    "        \n",
    "    return(l)\n",
    "\n",
    "def wordCount(file):\n",
    "    # Step 1. create a dictionary with a list of words and their frequency (counts)\n",
    "    counts = dict()                          # initializes 'counts' to {}\n",
    "    fhand = open(file)                       # open file\n",
    "    for line in fhand:                       # for each line in the file\n",
    "        words = line.split()                 # create a list of words from the line\n",
    "        for word in words:                   # for each word in the list of words\n",
    "            if word not in counts:           # if the word is NOT in 'counts'\n",
    "                counts[word] = 1             # then, add a new key with its initial value = 1\n",
    "            else:                            # if the word IS in 'counts'\n",
    "                counts[word] += 1            # then, increment the value associated with the word (key)\n",
    "\n",
    "    # Step 2. find the 5 most common words\n",
    "    l = fiveMostCommon(counts) \n",
    "    for item in l:\n",
    "        x, y = item\n",
    "        print(x + \": \" + str(y))\n",
    "    \n",
    "wordCount(\"text/moby_dick.txt\")"
   ]
  },
  {
   "cell_type": "code",
   "execution_count": null,
   "metadata": {
    "collapsed": true
   },
   "outputs": [],
   "source": []
  }
 ],
 "metadata": {
  "kernelspec": {
   "display_name": "Python 3",
   "language": "python",
   "name": "python3"
  },
  "language_info": {
   "codemirror_mode": {
    "name": "ipython",
    "version": 3
   },
   "file_extension": ".py",
   "mimetype": "text/x-python",
   "name": "python",
   "nbconvert_exporter": "python",
   "pygments_lexer": "ipython3",
   "version": "3.5.1"
  }
 },
 "nbformat": 4,
 "nbformat_minor": 0
}
