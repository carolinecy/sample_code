{
 "cells": [
  {
   "cell_type": "markdown",
   "metadata": {},
   "source": [
    "# NLTK — Additional Examples\n",
    "\n",
    "http://www.nltk.org/book/ch03.html"
   ]
  },
  {
   "cell_type": "markdown",
   "metadata": {},
   "source": [
    "### Accessing Text Corpora and Lexical Resources\n",
    "\n",
    "There are many books/texts available already in the NLTK, including Gutenberg Corpus, Web and Chat Text, Brown Corpus, Reuters Corpus, Inaugural Address Corpus, various annotated corpora (e.g,. WordNet), as well as corpora in non English languages.\n",
    "\n",
    "The following is a simple example that shows how you can use a corpus (in this case the **Gutenberg Corpus**).\n",
    "\n",
    "If you are intersted in other corpora, look at the following page for example code.\n",
    "\n",
    "> http://www.nltk.org/book/ch02.html"
   ]
  },
  {
   "cell_type": "code",
   "execution_count": 51,
   "metadata": {
    "collapsed": false
   },
   "outputs": [
    {
     "name": "stdout",
     "output_type": "stream",
     "text": [
      "['In', 'the', 'beginning', 'God', 'created', 'the', 'heaven', 'and', 'the', 'earth', '.']\n",
      "\n",
      "Displaying 10 of 10 matches:\n",
      "xceedingly ; twelve princes shall he beget , and I will make him a great nation\n",
      "jealous God . 4 : 25 When thou shalt beget children , and children ' s children\n",
      " cast his fruit . 28 : 41 Thou shalt beget sons and daughters , but thou shalt \n",
      "l issue from thee , which thou shalt beget , shall they take away ; and they sh\n",
      " is an evil disease . 6 : 3 If a man beget an hundred children , and live many \n",
      "l issue from thee , which thou shalt beget , shall they take away ; and they sh\n",
      "of them ; 29 : 6 Take ye wives , and beget sons and daughters ; and take wives \n",
      ", saith the Lord GOD . 18 : 10 If he beget a son that is a robber , a shedder o\n",
      " upon him . 18 : 14 Now , lo , if he beget a son , that seeth all his father ' \n",
      "that sojourn among you , which shall beget children among you : and they shall \n"
     ]
    }
   ],
   "source": [
    "import nltk\n",
    "from nltk.corpus import gutenberg\n",
    "tokens = gutenberg.words('bible-kjv.txt')   # get the words from the king james bible. It retuns a list of tokens.\n",
    "#print(kjv[0:50])                           \n",
    "kjv = nltk.Text(kjv)                        # Convert the list of tokens into an nltk.Text object.\n",
    "print(\"{}\\n\".format(kjv[25:36]))            # print the chracters between indexes 25 and 36.\n",
    "kjv.concordance(\"beget\")                    # create concordances with 'beget'\n"
   ]
  },
  {
   "cell_type": "code",
   "execution_count": 33,
   "metadata": {
    "collapsed": false
   },
   "outputs": [
    {
     "data": {
      "text/plain": [
       "['austen-emma.txt',\n",
       " 'austen-persuasion.txt',\n",
       " 'austen-sense.txt',\n",
       " 'bible-kjv.txt',\n",
       " 'blake-poems.txt',\n",
       " 'bryant-stories.txt',\n",
       " 'burgess-busterbrown.txt',\n",
       " 'carroll-alice.txt',\n",
       " 'chesterton-ball.txt',\n",
       " 'chesterton-brown.txt',\n",
       " 'chesterton-thursday.txt',\n",
       " 'edgeworth-parents.txt',\n",
       " 'melville-moby_dick.txt',\n",
       " 'milton-paradise.txt',\n",
       " 'shakespeare-caesar.txt',\n",
       " 'shakespeare-hamlet.txt',\n",
       " 'shakespeare-macbeth.txt',\n",
       " 'whitman-leaves.txt']"
      ]
     },
     "execution_count": 33,
     "metadata": {},
     "output_type": "execute_result"
    }
   ],
   "source": [
    "import nltk                              # ask Python to load the NLTK package\n",
    "from nltk.corpus import gutenberg        # ask nltk.corpora module to import 'gutenberg' (corpus)\n",
    "gutenberg.fileids()                      # list the text files included in the gutenberg corpus"
   ]
  },
  {
   "cell_type": "markdown",
   "metadata": {},
   "source": [
    "## Converting a text into an nltk.Text object\n",
    "\n",
    "If you conver your own text (from a file) into an nltk.Text object, you can do a few things easily. One of the most useful tool is the concordance tool. The following is an example that shows how you can use the concordance tool on your text. \n",
    "\n",
    "I have also included a few more useful tools below in separate code cells."
   ]
  },
  {
   "cell_type": "code",
   "execution_count": 11,
   "metadata": {
    "collapsed": false
   },
   "outputs": [
    {
     "name": "stdout",
     "output_type": "stream",
     "text": [
      "Displaying 25 of 76 matches:\n",
      "me . thank you for bringing marc into our family , and charlotte and aidan into\n",
      "ight . and to those of you who joined our campaign this week , thank you . what\n",
      "use of his friendship . we heard from our terrific vice president , the one-and\n",
      "n . he spoke from his big heart about our party 's commitment to working people\n",
      " lady michelle obama reminded us that our children are watching , and the presi\n",
      "e 'll make the whole country proud as our vice president . and i want to thank \n",
      "who threw their hearts and souls into our primary . you 've put economic and so\n",
      "now , i 've heard you . your cause is our cause . our country needs your ideas \n",
      "heard you . your cause is our cause . our country needs your ideas , energy , a\n",
      "on . that is the only way we can turn our progressive platform into real change\n",
      "e to philadelphia – the birthplace of our nation – because what happened in thi\n",
      "hat took courage . they had courage . our founders embraced the enduring truth \n",
      "espect are fraying . and just as with our founders , there are no guarantees . \n",
      "ogether so we all can rise together . our country 's motto is e pluribus unum :\n",
      "lf.” now we are clear-eyed about what our country is up against . but we are no\n",
      "rants who are already contributing to our economy ! we will not ban a religion \n",
      ". we will work with all americans and our allies to fight and defeat terrorism \n",
      " . so do n't let anyone tell you that our country is weak . we 're not . do n't\n",
      " together.” and remember . remember : our founders fought a revolution and wrot\n",
      " and forty years later , we still put our faith in each other . look at what ha\n",
      "america needs every one of us to lend our energy , our talents , our ambition t\n",
      " every one of us to lend our energy , our talents , our ambition to making our \n",
      "us to lend our energy , our talents , our ambition to making our nation better \n",
      " our talents , our ambition to making our nation better and stronger . i believ\n",
      "r together” is not just a lesson from our history . it 's not just a slogan for\n",
      "--\n",
      "donald trump; years ago; police officers; united states; small\n",
      "businesses; 're going; young people; could n't; years later; middle\n",
      "class; sales pitch; tax breaks; tim kaine; health care; vice\n",
      "president; bernie sanders; lauren manning; tuesday night; clean\n",
      "energy; fix it.”\n",
      "None\n"
     ]
    }
   ],
   "source": [
    "import nltk\n",
    "from nltk.tokenize import word_tokenize   \n",
    "\n",
    "fin = open(\"text/clinton_dnc_speech_2016.txt\")   # open a file\n",
    "tokens = word_tokenize(fin.read())               # tokenize the text in the file\n",
    "words = [w.lower() for w in tokens]              # 'lowercase' all the words\n",
    "text = nltk.Text(words)                          # create an nltk.Text object\n",
    "text.concordance('our')                          # get concordances for 'our'\n",
    "print(\"--\")\n",
    "print(text.collocations())"
   ]
  },
  {
   "cell_type": "code",
   "execution_count": 82,
   "metadata": {
    "collapsed": false
   },
   "outputs": [
    {
     "name": "stdout",
     "output_type": "stream",
     "text": [
      "lifetimes talents cause\n",
      "None\n",
      "---\n",
      "thank\n",
      "---\n",
      "76\n",
      "---\n",
      "1378\n"
     ]
    }
   ],
   "source": [
    "# More nltk.Text functions\n",
    "\n",
    "import nltk\n",
    "from nltk.tokenize import word_tokenize   \n",
    "fin = open(\"text/clinton_dnc_speech_2016.txt\")   # open a file\n",
    "fin.seek(0)\n",
    "tokens = word_tokenize(fin.read())               # tokenize the text in the file\n",
    "words = [w.lower() for w in tokens]              # 'lowercase' all the words\n",
    "text = nltk.Text(words)                          # create an nltk.Text object\n",
    "\n",
    "print(text.similar('energy'))   # finds all words that share a common context\n",
    "print(\"---\")\n",
    "print(text[3])                  # 5th token\n",
    "print(\"---\")\n",
    "print(text.count('our'))\n",
    "print(\"---\")\n",
    "print(len(set(text)))           # set(text) returns a list of only one of each word (types)\n"
   ]
  },
  {
   "cell_type": "code",
   "execution_count": 88,
   "metadata": {
    "collapsed": false
   },
   "outputs": [],
   "source": [
    "# more nltk.Text functions...\n",
    "\n",
    "import nltk\n",
    "from nltk.tokenize import word_tokenize   \n",
    "fin = open(\"text/clinton_dnc_speech_2016.txt\")   # open a file\n",
    "fin.seek(0)\n",
    "tokens = word_tokenize(fin.read())               # tokenize the text in the file\n",
    "words = [w.lower() for w in tokens]              # 'lowercase' all the words\n",
    "text = nltk.Text(words)                          # create an nltk.Text object\n",
    "\n",
    "res = [w for w in text if w.isalpha()]           # keep alphabetic characters\n",
    "# print(res)"
   ]
  },
  {
   "cell_type": "code",
   "execution_count": 101,
   "metadata": {
    "collapsed": false
   },
   "outputs": [
    {
     "name": "stdout",
     "output_type": "stream",
     "text": [
      "76\n",
      "                 .                  ,                and                the                 to                 we                  a                 of                you                  i                 in                our               that                 's                for                 it                 he                 is                n't               will               from                are             people                who               with                all                not                 do               have                 us                 be                 as                but                 so                 my                  –            america            country               just                can               what                 at               when                  ?               this                 on              trump               they               your          president                now                 me                  :                've               make                 if               know               here            believe            because             should              going            working                 by               work                out              their                how                're                she             donald                get              those           together                too                had                let              years                 no               them               more                  —                was                one               keep                 'm              first               than                his              right              other                 up               good               many               jobs               like              every              about          americans              where               well             better            economy                way           children             family                 or                  !                has               then             nation              thank              could              heard              there                'll                put               join              young               tell             mother                big               each              build               only               much                her              lives               help             rights               time               even              small           millions               hard            through           campaign              proud           stronger              still              world                 an               also               most                did                job                new                him               made              stand               some                pay               real               ever               long             health               kids               care             change               life              alone           families              these              never              party                see               look            imagine            tonight               back                why               sure                saw              women           remember              great               both             things                 ''             enough            respect               were             future              obama                any           everyone                say              wants              money               into               give               come                 ca             police               mean                day               safe              after         convention               fear                yes                men                war             anyone                man          something              would              words                 ``               said                ago              happy           national           founders             energy             others               face               part           fighting            talking                 go                own               take               last               less               want           thinking                fix               pass           officers                gun             wanted              house           whatever               down               must              woman            justice               been               says              state               home          including             school               left              again               hear               days            million             united              share             across               does             forces                lot                off                law           offering         businesses             street               king           watching              shoes              comes             toward              thing              story          ourselves            already             ground             social               none               feel            against           business             belong               lift               over              trust              today                  ”             lauren               done              night                 “i              wrote                met              faith             office             crisis               vice            support             states            brought             around                got               shot               deal             bernie               wall                few          community             gotten             making              since              later               ryan            started               need              raise             create              heart               guns              stage             little              child            courage              power               went        communities commander-in-chief            senator              truth            friends            history              times        opportunity               city           progress                top            college          decisions              let’s               week               live               lost       disabilities           deserves           possible             allies               kept           daughter               love           military           security                  …               john          listening              ahead           american             always              think             follow             before         leadership               heal          companies               rise            thought          challenge                kid               vote               zero               cool             breaks              start              might             reform            beloved             middle             really                ...               path              needs           powerful            passion            kennedy               took               find      entrepreneurs             killed           violence           reporter               seen              kaine              begin             happen              clean             single            threats               gone               stay              we’re           students            putting             strong             debbie               isis                i’m              white            keeping          dangerous            parties         democratic              dream            stories            thrives               full             twenty             worked             troops               idea         immigrants               game             facing              built        republicans       independents     infrastructure       philadelphia             answer          criminals         supporting       conversation             expand              sales               9/11            balance               told          education          amendment              motto         forgetting            looking               true              spoke            clinton          secretary           veterans          democrats              biden         affordable         disability              serve      opportunities             common            tuesday             defend                joe             behalf           standing               very               away            minutes           builders             nearly             voting              china              trade            program            mistake              asked             chance               laws          insurance          sometimes                ask         everything            nuclear               girl             during               goes            nothing              apart             lesson              front               lead               bill         revolution            promise           actually        good-paying               year              cause              works          necessary       presidential            climate              armed         washington           economic               it.”         confidence              reach               came            primary             called            between       corporations             became            rights…               pull           happened               kind                tim              fight               rest             credit           politics              pitch            sanders            members                  %               lady                its            deserve             dreams                may             that’s             hearts               mine             matter            whether           enduring       contributing              clear                yet             easier              takes                god            manning           creating               same              debts            someone             choice               hope           inspired               gave              class        immigration               fair               best             wonder             living              stick            perfect                tax              girls           michigan              wrong          agreement           building               “the          methodist          restraint           systemic              began               mike               book           treasure               past              saved            getting            finding              brown           honoring          patriotic          lifetimes              bonds              leads           wherever                240              plans                500         remarkable                 14              cuban               khan         opposition          nominated             policy            success       constitution                sky             stayed             taking       prescription          strategic           promises            decades                  e              daily              threw           ceilings              earth          slightest           humility               debt              force            science               grow            usually           tolerant              equal         republican              level             moment             degree            empower             center              aisle              issue   rough-and-tumble          different            betting            talents       tuition-free              pride           printing       steelworkers           midnight           provided            changed              surge               hall         technology           programs          together”              court         themselves         friendship                air      massachusetts                 wo            written              drawn             fought         terrorists                die              awful              pearl            teacher            anxious            hillary               road                 50             dallas             frames            showing              suits                pad                run         end-to-end      determination           yourself              worst            resolve             smarts               sons             fierce                 60               room             divide            biggest         wheelchair              talks       firefighters           generous               oval             action            goodbye             podium               weak            effects              quote           convince              until          unlimited            stiffed              bully              skill              wages              write        hardworking                  4             planet                100         supporters             closer               seem                set            guiding                “it            pulling               coal          addiction              mayor           brussels               hugh              judge              tried               show            dynamic       neighborhood        provocation               laid              lines       grandmothers               cost            heading          executive       door-by-door           hollowed            prevail            disrupt              brace              meant            sweeney            claimed              hours              hands              drugs               mill               bait              shall           enlisted         generation         clear-eyed            somehow              dad’s             legacy           defeated           tracking              badly            lashing             needed           football             person            destiny            patriot             saving             abroad            entrust             relies               hate              black             voices             barack            gravely          universal            allowed             nurses          draperies                  8              moved    representatives             senate            refused           “public”            leaders              often            reached            prevent               odds             simply             passed            hundred                112                ban             unruly              bless           perilous                san             tested                eat                “we           itself.”               door              march     constitutional              seems            furious            victims              grade              facts            marines                try               used          satisfied          homegrown              miles               ship           election              carry               card                 90          roosevelt             garden      comprehensive             accept      manufacturing              doing           question             pledge           brothers              laden             access             resent            mission            diverse            swelled                 13           equality             ignore                161            closely          protestor              watch              falls               stop            weapons               meet          charlotte          boundless                win              lunch            wanting explainer-in-chief          countries                  1            mexican           drinking      year-by-year…           restrict            baghdad              taxes               boys          terrorism          transform             please          paralysis             owners           comments             detect            “pigs.”       representing             handle            highest          buildings             indian            serious               lots                two               lace               ours              moore             israel            council        contractors              quick         commitment           decision              major           gridlock                 “a            amazing              local          important             turkey               easy              osama                dnc            crucial         determined             either            parents               call             somoza           tomorrow            reading            appoint             though              we’ve         courageous              can.”              stark         foundation     self-defeating          principle            knocked            greater              crash              plant           kindness               hand              do….”        represented         disposable        commitments              solve           divisive            weighed           problems            problem        entertainer              “what          promoting        deep-seated            attacks             steady             perils             fairer           scranton            meeting              alarm            playing          “stronger                bag           possibly               “no”           laughing         challenged            purpose              admit              water            divides                lay             cities           hamilton              begun         tirelessly              bills               silk           franklin               auto             turned           motivate              eight               duty             leader             detail              movie               send         nomination            musical            bullies              faces           justices             thinks              tough             racism            doctors                bin               nice           platform             launch              final              wage…               gets            learned           grateful               york               hide             ensure            futures             values                 ii           governor          village.”             served           congress                hot          four-year          privilege          furniture             status               food       step-by-step             70-odd             joined             global        grandfather               wage           overturn             afraid            reforms                sad               pick              elect              along               lend                 12           pluribus            supreme              sweat           mobility          literally                “do          milestone             trumps             pocket          debt-free              wreck            without             repeal               dare             clears            willing             mexico            chapter                st.       intelligence           terrific           heritage             agenda            poverty            spouses               hung             danger              rally             firing              glory               pink           michelle               miss               ones           citizens          “service”          committee        citizenship               hold         birthplace            protect              while               heck              pence           liberate         successful          abandoned             lasted               ohio              boost           colorado            holding           industry            bombast          refinance             record         disaster.”           excusing            beliefs          situation            bigotry             speech       particularly               sees              porch              stood     soonunderstand             filled             helped           embraced              souls      understanding              aidan      manufacturers              civil        responsible              ended              bring        reassurance           bringing               able               navy              drive          responded           generals             threat            enforce        understands              chief               unum            explain             return              whole               five               harm         innovative             pretty             decide       compromising            worried         turbulence               save           reminded            offered             mimics              paris               i’ll                end        enforcement             looked             defeat         together.”         associated           judgment              mocks             jackie            improve             choose               poll               song             “woman            efforts             failed             slogan            dealing          prisoners             denied               penn             debate             strike               main               iran                 80               body              deals            kissing            mothers            totally           colonies             myself              title               fund           horrible            fraying         responders              death        businessman             covers            dorothy             gladly            service              david              tools        temperament         especially           believed           inhumane             latino           priority         challenges                 45               name               turn              whose             become             starts           strategy               kick             caring          anastasia        threatening         guarantees           lifetime          developed               risk              tweet              forty              lobby               ways            welcome           movement         7-year-old            rebuild              peace                  -               i’ve                joy              empty          coalition             online                “go          americait               hero              close                odd          solutions             rising            barrier              touch            noticed            exactly          wisconsin          cleveland              gains               bold              isn’t              bells            captain              stuck              focus            bonuses            regions             fathom                  »            minimum          strengths             issues           teachers           ambition             titles           overseas              union             unfair        progressive           atlantic            prepare          reckoning             russia             invest            finally                 10             sounds         bernardino              break         inequality        accountable               sick             leaned              inner               once              voice           gathered               four            hardest            morning       one-and-only     private-sector            blocked             places           striving           virginia        autoworkers              slips               iowa            workers             within                dad     assassinations            applied          toorlando            sitting               race            injured             refuse            enemies              loses              knows            insults               news            ravaged               else         facilities              limit            library              maybe             fellow            parking          democracy          survivors           planting             behind               nato              exact            defense           strength         radicalize            picture              human               walk            mccain—             fabric           treaties           selfless       common-sense      possibilities              truly           religion                 15            profits           recovery              towns          defeating               wife              brave             minute             trying             pounds             mental                 40             number         investment        investments            chelsea           practice              teach              taken             harbor               such            bedford              freer              ideas              blind                boo               plan            instead              kabul             played              banks                zip            missile         frustrated         struggling                  '             system            wearing              india        application             sister              leave             shaped            belongs              extra             showed              being               maid            precise               it’s             afford               line           rhetoric           criminal               ties             delano            screens              dolan          recession               code              place             urging            student                2nd         innovation        sanctuaries                lid          outgunned             period               paid            freedom       door-to-door              grace              seeds           closures             rebuke         super-rich              learn           services             walked               lgbt               marc       self-control             paying            details             public              flint                quo \n",
      "               359                244                217                210                173                121                105                 98                 86                 79                 77                 76                 74                 69                 59                 57                 48                 47                 39                 37                 37                 37                 37                 37                 36                 35                 35                 34                 32                 31                 29                 28                 28                 28                 27                 26                 26                 26                 26                 25                 25                 25                 24                 23                 22                 22                 21                 21                 21                 20                 20                 20                 19                 19                 19                 19                 19                 19                 19                 18                 18                 17                 17                 17                 16                 16                 16                 15                 15                 15                 15                 15                 14                 14                 14                 14                 14                 13                 13                 13                 13                 13                 13                 13                 12                 12                 12                 12                 12                 12                 12                 12                 12                 11                 11                 11                 11                 11                 11                 10                 10                 10                 10                 10                 10                 10                 10                 10                 10                  9                  9                  9                  9                  9                  9                  8                  8                  8                  8                  8                  8                  8                  8                  8                  8                  8                  8                  8                  8                  7                  7                  7                  7                  7                  7                  7                  7                  7                  7                  7                  7                  7                  7                  7                  7                  7                  7                  7                  7                  7                  7                  7                  7                  7                  6                  6                  6                  6                  6                  6                  6                  6                  6                  6                  6                  6                  6                  6                  6                  6                  5                  5                  5                  5                  5                  5                  5                  5                  5                  5                  5                  5                  5                  5                  5                  5                  5                  5                  5                  5                  5                  5                  5                  5                  5                  5                  5                  5                  5                  5                  5                  5                  5                  5                  5                  5                  5                  5                  5                  5                  5                  4                  4                  4                  4                  4                  4                  4                  4                  4                  4                  4                  4                  4                  4                  4                  4                  4                  4                  4                  4                  4                  4                  4                  4                  4                  4                  4                  4                  4                  4                  4                  4                  4                  4                  4                  4                  4                  4                  4                  4                  4                  4                  3                  3                  3                  3                  3                  3                  3                  3                  3                  3                  3                  3                  3                  3                  3                  3                  3                  3                  3                  3                  3                  3                  3                  3                  3                  3                  3                  3                  3                  3                  3                  3                  3                  3                  3                  3                  3                  3                  3                  3                  3                  3                  3                  3                  3                  3                  3                  3                  3                  3                  3                  3                  3                  3                  3                  3                  3                  3                  3                  3                  3                  3                  3                  3                  3                  3                  3                  3                  3                  3                  3                  3                  3                  3                  3                  3                  3                  3                  3                  3                  3                  3                  3                  3                  3                  3                  3                  3                  3                  3                  3                  3                  3                  3                  3                  3                  3                  3                  3                  3                  2                  2                  2                  2                  2                  2                  2                  2                  2                  2                  2                  2                  2                  2                  2                  2                  2                  2                  2                  2                  2                  2                  2                  2                  2                  2                  2                  2                  2                  2                  2                  2                  2                  2                  2                  2                  2                  2                  2                  2                  2                  2                  2                  2                  2                  2                  2                  2                  2                  2                  2                  2                  2                  2                  2                  2                  2                  2                  2                  2                  2                  2                  2                  2                  2                  2                  2                  2                  2                  2                  2                  2                  2                  2                  2                  2                  2                  2                  2                  2                  2                  2                  2                  2                  2                  2                  2                  2                  2                  2                  2                  2                  2                  2                  2                  2                  2                  2                  2                  2                  2                  2                  2                  2                  2                  2                  2                  2                  2                  2                  2                  2                  2                  2                  2                  2                  2                  2                  2                  2                  2                  2                  2                  2                  2                  2                  2                  2                  2                  2                  2                  2                  2                  2                  2                  2                  2                  2                  2                  2                  2                  2                  2                  2                  2                  2                  2                  2                  2                  2                  2                  2                  2                  2                  2                  2                  2                  2                  2                  2                  2                  2                  2                  2                  2                  2                  2                  2                  2                  2                  2                  2                  2                  2                  2                  2                  2                  2                  2                  2                  2                  2                  2                  2                  2                  2                  2                  2                  2                  2                  2                  2                  2                  2                  2                  2                  2                  2                  1                  1                  1                  1                  1                  1                  1                  1                  1                  1                  1                  1                  1                  1                  1                  1                  1                  1                  1                  1                  1                  1                  1                  1                  1                  1                  1                  1                  1                  1                  1                  1                  1                  1                  1                  1                  1                  1                  1                  1                  1                  1                  1                  1                  1                  1                  1                  1                  1                  1                  1                  1                  1                  1                  1                  1                  1                  1                  1                  1                  1                  1                  1                  1                  1                  1                  1                  1                  1                  1                  1                  1                  1                  1                  1                  1                  1                  1                  1                  1                  1                  1                  1                  1                  1                  1                  1                  1                  1                  1                  1                  1                  1                  1                  1                  1                  1                  1                  1                  1                  1                  1                  1                  1                  1                  1                  1                  1                  1                  1                  1                  1                  1                  1                  1                  1                  1                  1                  1                  1                  1                  1                  1                  1                  1                  1                  1                  1                  1                  1                  1                  1                  1                  1                  1                  1                  1                  1                  1                  1                  1                  1                  1                  1                  1                  1                  1                  1                  1                  1                  1                  1                  1                  1                  1                  1                  1                  1                  1                  1                  1                  1                  1                  1                  1                  1                  1                  1                  1                  1                  1                  1                  1                  1                  1                  1                  1                  1                  1                  1                  1                  1                  1                  1                  1                  1                  1                  1                  1                  1                  1                  1                  1                  1                  1                  1                  1                  1                  1                  1                  1                  1                  1                  1                  1                  1                  1                  1                  1                  1                  1                  1                  1                  1                  1                  1                  1                  1                  1                  1                  1                  1                  1                  1                  1                  1                  1                  1                  1                  1                  1                  1                  1                  1                  1                  1                  1                  1                  1                  1                  1                  1                  1                  1                  1                  1                  1                  1                  1                  1                  1                  1                  1                  1                  1                  1                  1                  1                  1                  1                  1                  1                  1                  1                  1                  1                  1                  1                  1                  1                  1                  1                  1                  1                  1                  1                  1                  1                  1                  1                  1                  1                  1                  1                  1                  1                  1                  1                  1                  1                  1                  1                  1                  1                  1                  1                  1                  1                  1                  1                  1                  1                  1                  1                  1                  1                  1                  1                  1                  1                  1                  1                  1                  1                  1                  1                  1                  1                  1                  1                  1                  1                  1                  1                  1                  1                  1                  1                  1                  1                  1                  1                  1                  1                  1                  1                  1                  1                  1                  1                  1                  1                  1                  1                  1                  1                  1                  1                  1                  1                  1                  1                  1                  1                  1                  1                  1                  1                  1                  1                  1                  1                  1                  1                  1                  1                  1                  1                  1                  1                  1                  1                  1                  1                  1                  1                  1                  1                  1                  1                  1                  1                  1                  1                  1                  1                  1                  1                  1                  1                  1                  1                  1                  1                  1                  1                  1                  1                  1                  1                  1                  1                  1                  1                  1                  1                  1                  1                  1                  1                  1                  1                  1                  1                  1                  1                  1                  1                  1                  1                  1                  1                  1                  1                  1                  1                  1                  1                  1                  1                  1                  1                  1                  1                  1                  1                  1                  1                  1                  1                  1                  1                  1                  1                  1                  1                  1                  1                  1                  1                  1                  1                  1                  1                  1                  1                  1                  1                  1                  1                  1                  1                  1                  1                  1                  1                  1                  1                  1                  1                  1                  1                  1                  1                  1                  1                  1                  1                  1                  1                  1                  1                  1                  1                  1                  1                  1                  1                  1                  1                  1                  1                  1                  1                  1                  1                  1                  1                  1                  1                  1                  1                  1                  1                  1                  1                  1                  1                  1                  1                  1                  1                  1                  1                  1                  1                  1                  1                  1                  1                  1                  1                  1                  1                  1                  1                  1                  1                  1                  1                  1                  1                  1                  1                  1                  1                  1                  1                  1                  1                  1                  1                  1                  1                  1                  1                  1                  1                  1                  1                  1                  1                  1                  1                  1                  1                  1                  1                  1                  1                  1                  1                  1                  1                  1                  1                  1                  1                  1                  1                  1                  1                  1                  1                  1                  1                  1                  1                  1                  1                  1                  1                  1                  1                  1                  1                  1                  1                  1                  1                  1                  1                  1                  1                  1                  1                  1                  1                  1                  1                  1                  1                  1                  1                  1                  1                  1                  1                  1                  1                  1                  1                  1                  1                  1                  1                  1                  1                  1                  1                  1                  1                  1                  1                  1                  1                  1                  1                  1                  1                  1                  1                  1                  1                  1                  1                  1                  1                  1                  1                  1                  1                  1                  1                  1                  1                  1                  1                  1                  1                  1                  1                  1                  1                  1                  1                  1                  1                  1                  1                  1                  1                  1                  1                  1                  1                  1                  1                  1                  1                  1                  1                  1                  1                  1                  1                  1                  1                  1                  1                  1                  1                  1                  1                  1                  1                  1                  1                  1                  1                  1                  1                  1                  1                  1                  1                  1                  1                  1                  1                  1                  1                  1                  1                  1                  1                  1                  1                  1                  1                  1                  1                  1                  1                  1                  1                  1                  1                  1                  1                  1                  1                  1                  1                  1                  1                  1                  1                  1                  1                  1                  1                  1                  1                  1                  1                  1                  1                  1                  1                  1                  1                  1                  1                  1                  1                  1                  1                  1                  1                  1                  1                  1                  1                  1                  1                  1                  1                  1                  1                  1                  1                  1                  1                  1                  1                  1                  1                  1                  1                  1                  1                  1                  1                  1                  1                  1                  1                  1                  1                  1                  1                  1                  1                  1                  1                  1                  1                  1                  1                  1                  1                  1                  1                  1                  1                  1                  1                  1                  1                  1                  1                  1                  1                  1                  1                  1                  1                  1                  1                  1                  1                  1                  1                  1                  1                  1                  1                  1                  1                  1                  1                  1                  1                  1                  1                  1 \n"
     ]
    }
   ],
   "source": [
    "# more nltk.Text functions...\n",
    "\n",
    "import nltk\n",
    "from nltk.tokenize import word_tokenize   \n",
    "fin = open(\"text/clinton_dnc_speech_2016.txt\")   # open a file\n",
    "fin.seek(0)\n",
    "tokens = word_tokenize(fin.read())               # tokenize the text in the file\n",
    "words = [w.lower() for w in tokens]              # 'lowercase' all the words\n",
    "text = nltk.Text(words)                          # create an nltk.Text object\n",
    "\n",
    "fd = nltk.FreqDist(text)             # create a new data object that contains information about word frequency\n",
    "print( fd['our'] ) \n",
    "#print( fd.keys() )                   # a list of unique words (types)\n",
    "#print( fd.items() )                  # a list of everything in the text (including punctuations, repeated words etc.)\n",
    "#fd.plot(10, cumulative=False)        # generate a chart of the 10 most frequent words\n",
    "fd.freq('the')\n",
    "res =([len(w) for w in text])          # list of word length\n",
    "#print(res)\n",
    "\n"
   ]
  },
  {
   "cell_type": "markdown",
   "metadata": {},
   "source": [
    "### N-grams\n"
   ]
  },
  {
   "cell_type": "code",
   "execution_count": 125,
   "metadata": {
    "collapsed": false
   },
   "outputs": [
    {
     "name": "stdout",
     "output_type": "stream",
     "text": [
      "[   ('thank', 'you'),\n",
      "    ('you', '!'),\n",
      "    ('!', 'thank'),\n",
      "    ('thank', 'you'),\n",
      "    ('you', 'all'),\n",
      "    ('all', 'very'),\n",
      "    ('very', 'much'),\n",
      "    ('much', '!'),\n",
      "    ('!', 'thank'),\n",
      "    ('thank', 'you'),\n",
      "    ('you', 'for'),\n",
      "    ('for', 'that')]\n",
      "\n",
      "[   ('thank', 'you', '!'),\n",
      "    ('you', '!', 'thank'),\n",
      "    ('!', 'thank', 'you'),\n",
      "    ('thank', 'you', 'all'),\n",
      "    ('you', 'all', 'very'),\n",
      "    ('all', 'very', 'much'),\n",
      "    ('very', 'much', '!'),\n",
      "    ('much', '!', 'thank'),\n",
      "    ('!', 'thank', 'you'),\n",
      "    ('thank', 'you', 'for'),\n",
      "    ('you', 'for', 'that'),\n",
      "    ('for', 'that', 'amazing')]\n",
      "\n",
      "[   ('thank', 'you', '!', 'thank', 'you'),\n",
      "    ('you', '!', 'thank', 'you', 'all'),\n",
      "    ('!', 'thank', 'you', 'all', 'very'),\n",
      "    ('thank', 'you', 'all', 'very', 'much'),\n",
      "    ('you', 'all', 'very', 'much', '!'),\n",
      "    ('all', 'very', 'much', '!', 'thank'),\n",
      "    ('very', 'much', '!', 'thank', 'you'),\n",
      "    ('much', '!', 'thank', 'you', 'for'),\n",
      "    ('!', 'thank', 'you', 'for', 'that'),\n",
      "    ('thank', 'you', 'for', 'that', 'amazing'),\n",
      "    ('you', 'for', 'that', 'amazing', 'welcome'),\n",
      "    ('for', 'that', 'amazing', 'welcome', '.')]\n"
     ]
    }
   ],
   "source": [
    "import pprint                                  # pretty prnting for debugging\n",
    "pp = pprint.PrettyPrinter(indent=4)            # create a pretty printing object used for debugging.\n",
    "\n",
    "import nltk\n",
    "from nltk.tokenize import word_tokenize   \n",
    "fin = open(\"text/clinton_dnc_speech_2016.txt\")   # open a file\n",
    "fin.seek(0)\n",
    "tokens = word_tokenize(fin.read())               # tokenize the text in the file\n",
    "words = [w.lower() for w in tokens]              # 'lowercase' all the words\n",
    "text = nltk.Text(words)                          # create an nltk.Text object\n",
    "\n",
    "res = nltk.bigrams(text)\n",
    "pp.pprint(list(res)[:12])\n",
    "print(\"\")\n",
    "res = nltk.trigrams(text)\n",
    "pp.pprint(list(res)[:12])\n",
    "print(\"\")\n",
    "res = nltk.ngrams(text, 5)\n",
    "pp.pprint(list(res)[:12])\n"
   ]
  },
  {
   "cell_type": "code",
   "execution_count": null,
   "metadata": {
    "collapsed": true
   },
   "outputs": [],
   "source": []
  }
 ],
 "metadata": {
  "kernelspec": {
   "display_name": "Python 3",
   "language": "python",
   "name": "python3"
  },
  "language_info": {
   "codemirror_mode": {
    "name": "ipython",
    "version": 3
   },
   "file_extension": ".py",
   "mimetype": "text/x-python",
   "name": "python",
   "nbconvert_exporter": "python",
   "pygments_lexer": "ipython3",
   "version": "3.5.1"
  }
 },
 "nbformat": 4,
 "nbformat_minor": 0
}
