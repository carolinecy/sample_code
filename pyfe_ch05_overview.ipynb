{
 "cells": [
  {
   "cell_type": "markdown",
   "metadata": {},
   "source": [
    "Python for Everybody\n",
    "## Chpater 05 Iteration"
   ]
  },
  {
   "cell_type": "code",
   "execution_count": 15,
   "metadata": {
    "collapsed": false
   },
   "outputs": [
    {
     "name": "stdout",
     "output_type": "stream",
     "text": [
      "1\n",
      "2\n",
      "3\n",
      "---\n",
      "5\n",
      "7\n",
      "9\n"
     ]
    }
   ],
   "source": [
    "# 5.1 Updating Variables\n",
    "\n",
    "# Increment x by 1\n",
    "x = 0\n",
    "x = x + 1\n",
    "print(x)\n",
    "x = x + 1 \n",
    "print(x)\n",
    "x = x + 1\n",
    "print(x)\n",
    "\n",
    "print(\"---\")\n",
    "\n",
    "# Increment x by 2. \"+=\" is a short-hand.\n",
    "x += 2\n",
    "print(x)\n",
    "x += 2\n",
    "print(x)\n",
    "x += 2\n",
    "print(x)"
   ]
  },
  {
   "cell_type": "code",
   "execution_count": 20,
   "metadata": {
    "collapsed": false
   },
   "outputs": [
    {
     "name": "stdout",
     "output_type": "stream",
     "text": [
      "1\n",
      "2\n",
      "3\n",
      "4\n",
      "5\n",
      "6\n",
      "7\n",
      "8\n",
      "9\n",
      "10\n",
      "done!\n"
     ]
    }
   ],
   "source": [
    "# 5.2 The While Statement\n",
    "\n",
    "count = 1\n",
    "max_num = 10\n",
    "while count <= max_num:      # count <= max_num becomes False when count is greater than 10.\n",
    "    print(count)\n",
    "    count += 1               # increment count by 1.\n",
    "print(\"done!\")    \n"
   ]
  },
  {
   "cell_type": "code",
   "execution_count": 4,
   "metadata": {
    "collapsed": true
   },
   "outputs": [],
   "source": [
    "# 5.3 Infinite Loops\n",
    "\n",
    "# Why is the following code commented out? Don't run it.\n",
    "\n",
    "# count = 1\n",
    "# while count > 0: \n",
    "#     print(count)\n",
    "#     count += 1\n",
    "# print(\"done!\")    \n"
   ]
  },
  {
   "cell_type": "code",
   "execution_count": 2,
   "metadata": {
    "collapsed": false
   },
   "outputs": [
    {
     "name": "stdout",
     "output_type": "stream",
     "text": [
      "Are you done? Not yet\n",
      "Not yet\n",
      "Are you done? NO\n",
      "NO\n",
      "Are you done? what?\n",
      "what?\n",
      "Are you done? yes\n",
      "Done!\n"
     ]
    }
   ],
   "source": [
    "# 5.4 Infinite Loops and Break\n",
    "\n",
    "while True:\n",
    "    line = input(\"Are you done? \")\n",
    "    if line == 'yes':\n",
    "        break\n",
    "    print(line)\n",
    "print('Done!')    \n"
   ]
  },
  {
   "cell_type": "code",
   "execution_count": 4,
   "metadata": {
    "collapsed": false
   },
   "outputs": [
    {
     "name": "stdout",
     "output_type": "stream",
     "text": [
      "Are you done? yes\n",
      "Done!\n"
     ]
    }
   ],
   "source": [
    "# 5.5 Finishing Iterations with Continue\n",
    "\n",
    "while True:\n",
    "    line = input(\"Are you done? \")\n",
    "    if line == '#':\n",
    "        continue         # 'continue' will skip the rest of the statements in the loop, and start from the top.\n",
    "    if line == 'yes':\n",
    "        break\n",
    "    print(line)\n",
    "print('Done!')    \n",
    "\n"
   ]
  },
  {
   "cell_type": "code",
   "execution_count": 9,
   "metadata": {
    "collapsed": false
   },
   "outputs": [
    {
     "name": "stdout",
     "output_type": "stream",
     "text": [
      "Discover the power within yourself.\n",
      "Patience is a virtue, unless its against a brick wall.\n",
      "The best way to give credit is to give it away.\n",
      "You believe in the goodness of mankind.\n",
      "You can fix it with a little extra energy and a positive attitude.\n"
     ]
    }
   ],
   "source": [
    "# 5.6 Definie Loops Using 'for'\n",
    "\n",
    "f1 = \"Discover the power within yourself.\"\n",
    "f2 = \"Patience is a virtue, unless its against a brick wall.\"\n",
    "f3 = \"The best way to give credit is to give it away.\"\n",
    "f4 = \"You believe in the goodness of mankind.\"\n",
    "f5 = \"You can fix it with a little extra energy and a positive attitude.\"\n",
    "\n",
    "fortunes = [f1, f2, f3, f4, f5]   # This is a list of fortunes. We'll learn more about lists in chapter 8.\n",
    "                                  # You can list strings, numberes, or anything.\n",
    "\n",
    "for fortune in fortunes:\n",
    "    print(fortune)\n",
    "    "
   ]
  },
  {
   "cell_type": "code",
   "execution_count": 8,
   "metadata": {
    "collapsed": true
   },
   "outputs": [],
   "source": [
    "# 5.7 Loop Patterns"
   ]
  }
 ],
 "metadata": {
  "kernelspec": {
   "display_name": "Python 3",
   "language": "python",
   "name": "python3"
  },
  "language_info": {
   "codemirror_mode": {
    "name": "ipython",
    "version": 3
   },
   "file_extension": ".py",
   "mimetype": "text/x-python",
   "name": "python",
   "nbconvert_exporter": "python",
   "pygments_lexer": "ipython3",
   "version": "3.5.1"
  }
 },
 "nbformat": 4,
 "nbformat_minor": 0
}
