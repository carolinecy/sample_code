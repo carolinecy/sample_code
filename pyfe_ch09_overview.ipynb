{
 "cells": [
  {
   "cell_type": "markdown",
   "metadata": {},
   "source": [
    "Python for Everybody\n",
    "## Chpater 09 Dictionaries"
   ]
  },
  {
   "cell_type": "code",
   "execution_count": 76,
   "metadata": {
    "collapsed": false
   },
   "outputs": [
    {
     "name": "stdout",
     "output_type": "stream",
     "text": [
      "{}\n",
      "{}\n",
      "{'John': 30}\n",
      "{'John': 30, 'Jane': 28}\n",
      "---\n",
      "28\n",
      "30\n",
      "---\n",
      "2\n",
      "---\n",
      "True\n",
      "False\n",
      "---\n",
      "dict_values([30, 28])\n",
      "[30, 28]\n",
      "dict_keys(['John', 'Jane'])\n",
      "['John', 'Jane']\n",
      "---\n",
      "True\n",
      "False\n"
     ]
    }
   ],
   "source": [
    "# Introduction\n",
    "\n",
    "d = dict()     # create a dictionary\n",
    "print(d)\n",
    "\n",
    "d = {}         # create a dictionary\n",
    "print(d)\n",
    "\n",
    "# ----- Adding key-value pairs -----\n",
    "\n",
    "d['John'] = 30   # add a key-value pair. key = John, value = 30\n",
    "print(d)\n",
    "d['Jane'] = 28   # add another key-value pair.\n",
    "print(d)\n",
    "\n",
    "# ----- Retrieving a value from a specific key -----\n",
    "print(\"---\")\n",
    "print(d['Jane']) # retrieve a value of a specific key\n",
    "print(d['John'])\n",
    "\n",
    "# ----- Finding how many key-value pairs are in the dictionary -----\n",
    "print(\"---\")\n",
    "print(len(d))\n",
    "\n",
    "# ----- Finding out if a particular key is in the dictionary -----\n",
    "print(\"---\")\n",
    "print('Jane' in d)\n",
    "print('Mike' in d)\n",
    "\n",
    "# ----- Creating a list of keys/values -----\n",
    "print(\"---\")\n",
    "print(d.values())\n",
    "print(list(d.values()))\n",
    "print(d.keys())\n",
    "print(list(d.keys()))\n",
    "\n",
    "# ----- Finding out if a particular value is in the dictionary -----\n",
    "print(\"---\")\n",
    "vals = list(d.values())\n",
    "print(30 in vals)\n",
    "print(300 in vals)"
   ]
  },
  {
   "cell_type": "code",
   "execution_count": 77,
   "metadata": {
    "collapsed": false
   },
   "outputs": [
    {
     "name": "stdout",
     "output_type": "stream",
     "text": [
      "{'spider': 8, 'penguin': 2, 'dog': 4, 'octopus': 2, 'kangaroo': 3, 'snake': 0}\n"
     ]
    }
   ],
   "source": [
    "# The order of items in a dictionary is unpredicable!!\n",
    "a = {'dog' : 4, \"kangaroo\" : 3, \"snake\": 0, \"penguin\" : 2, \"spider\" : 8, \"octopus\" : 2}\n",
    "\n",
    "# Notice that the order of the items in the dictionary is different when it is printed.\n",
    "print(a)"
   ]
  },
  {
   "cell_type": "code",
   "execution_count": 78,
   "metadata": {
    "collapsed": false
   },
   "outputs": [
    {
     "name": "stdout",
     "output_type": "stream",
     "text": [
      "d = {'a': 3, 'b': 1, 'n': 2} \n",
      "---\n",
      "There are 3 instance(s) of 'a'.\n",
      "There are 1 instance(s) of 'b'.\n",
      "There are 2 instance(s) of 'n'.\n",
      "---\n",
      "4\n",
      "-1\n"
     ]
    }
   ],
   "source": [
    "# 9.01 Dictionary as a Set of Counters\n",
    "\n",
    "# very simple example\n",
    "word = \"banana\"\n",
    "d = {}\n",
    "for char in word:\n",
    "    if char not in d:\n",
    "        d[char] = 1\n",
    "    else:\n",
    "        d[char] = d[char] + 1\n",
    "\n",
    "print(\"d = {} \".format(d))\n",
    "print(\"---\")\n",
    "for x in d:\n",
    "    print(\"There are {} instance(s) of \\'{}\\'.\".format(d[x], x))\n",
    "    \n",
    "print(\"---\")    \n",
    "a = {'dog' : 4, \"kangaroo\" : 3, \"snake\": 0, \"penguin\" : 2, \"spider\" : 8, \"octopus\" : 2}\n",
    "default = -1\n",
    "print(a.get('dog', default))     # the get method returns the 2nd argument if the key does not exist\n",
    "print(a.get('cat', default))"
   ]
  },
  {
   "cell_type": "code",
   "execution_count": 74,
   "metadata": {
    "collapsed": false
   },
   "outputs": [
    {
     "name": "stdout",
     "output_type": "stream",
     "text": [
      "{'shore,': 1, 'hats': 1, 'Call': 1, 'soon': 1, 'a': 5, 'before': 1, 'high': 1, 'degree,': 1, 'all': 1, 'Some': 1, 'every': 1, 'way': 1, 'spleen': 1, 'philosophical': 1, 'get': 2, 'thought': 1, 'years': 1, 'in': 4, 'towards': 1, 'whenever': 3, 'would': 1, 'There': 1, 'ocean': 1, 'how': 1, 'nearly': 1, 'mouth;': 1, 'nothing': 2, 'sail': 1, 'pausing': 1, 'of': 4, 'regulating': 1, 'my': 4, 'street,': 1, 'bringing': 1, 'for': 1, 'me': 3, 'their': 1, 'myself': 2, 'requires': 1, 'stepping': 1, 'me.': 1, 'upper': 1, 'hypos': 1, 'it': 3, 'If': 1, 'with': 1, 'cherish': 1, 'upon': 1, 'deliberately': 1, 'Whenever': 1, 'especially': 1, 'involuntarily': 1, 'and': 7, 'almost': 1, 'men': 1, 'sea': 1, 'grim': 1, 'meet;': 1, 'such': 1, 'other,': 1, 'from': 1, 'off': 1, 'this.': 1, 'they': 1, 'principle': 1, 'knocking': 1, 'off—then,': 1, 'me,': 1, \"people's\": 1, 'account': 1, 'or': 2, 'warehouses,': 1, 'find': 2, 'throws': 1, 'to': 5, 'take': 1, 'very': 1, 'ball.': 1, 'substitute': 1, 'into': 1, 'can.': 1, 'It': 1, 'funeral': 1, 'feelings': 1, 'Cato': 1, 'same': 1, 'growing': 1, 'methodically': 1, 'coffin': 1, 'knew': 1, 'an': 1, 'watery': 1, 'drizzly': 1, 'precisely—having': 1, 'driving': 1, 'is': 4, 'mind': 1, 'as': 2, 'no': 1, 'have': 1, 'himself': 1, 'This': 1, 'damp,': 1, 'quietly': 1, 'Ishmael.': 1, 'flourish': 1, 'purse,': 1, 'it,': 1, 'I': 9, 'up': 1, 'little': 2, 'circulation.': 1, 'long': 1, 'moral': 1, 'see': 1, 'pistol': 1, 'money': 1, 'but': 1, 'sword;': 1, 'November': 1, 'particular': 1, 'the': 10, 'part': 1, 'With': 1, 'time': 2, 'prevent': 1, 'ago—never': 1, 'his': 1, 'world.': 1, 'surprising': 1, 'on': 1, 'some': 1, 'rear': 1, 'interest': 1, 'that': 1, 'ship.': 1, 'about': 2, 'soul;': 1, 'strong': 1, 'hand': 1}\n",
      "3\n",
      "1\n",
      "1\n"
     ]
    }
   ],
   "source": [
    "# 9.02 Dictionaries and Files\n",
    "\n",
    "fname = \"text/moby_dick.txt\"\n",
    "try:\n",
    "    fhand = open(fname)\n",
    "except:\n",
    "    print('File cannot be opened:', fname)\n",
    "\n",
    "# Create a dictionary with all the words in the file as keys, and the number of occurences as values\n",
    "counts = dict()\n",
    "for line in fhand:\n",
    "    words = line.split()\n",
    "    for word in words:\n",
    "        if word not in counts:\n",
    "            counts[word] = 1\n",
    "        else:\n",
    "            counts[word] += 1\n",
    "            \n",
    "print(counts)\n",
    "# pp.print(counts)    # pretty printing\n",
    "\n",
    "# But see the following. Words with a punctuation (like )\"me.\" and \"me,\") are not counted accurately.\n",
    "# We'll solve this problem in 9.04 below. \n",
    "print(counts['me'])\n",
    "print(counts['me.'])\n",
    "print(counts['me,'])"
   ]
  },
  {
   "cell_type": "code",
   "execution_count": 82,
   "metadata": {
    "collapsed": false
   },
   "outputs": [
    {
     "name": "stdout",
     "output_type": "stream",
     "text": [
      "There are 2 instances of 'nothing'\n",
      "---\n",
      "{'a': 5, 'or': 2, 'is': 4, 'find': 2, 'I': 9, 'of': 4, 'nothing': 2, 'it': 3, 'time': 2, 'to': 5, 'whenever': 3, 'little': 2, 'my': 4, 'as': 2, 'get': 2, 'about': 2, 'the': 10, 'in': 4, 'me': 3, 'and': 7, 'myself': 2}\n"
     ]
    },
    {
     "ename": "RuntimeError",
     "evalue": "dictionary changed size during iteration",
     "output_type": "error",
     "traceback": [
      "\u001b[0;31m---------------------------------------------------------------------------\u001b[0m",
      "\u001b[0;31mRuntimeError\u001b[0m                              Traceback (most recent call last)",
      "\u001b[0;32m<ipython-input-82-3d0b8fb86e7e>\u001b[0m in \u001b[0;36m<module>\u001b[0;34m()\u001b[0m\n\u001b[1;32m     31\u001b[0m \u001b[0;31m# Delete all the words tha only appear once form 'counts'\u001b[0m\u001b[0;34m\u001b[0m\u001b[0;34m\u001b[0m\u001b[0m\n\u001b[1;32m     32\u001b[0m \u001b[0;31m# This will result in an error. You cannot change the dictionary while you are iterating through it.\u001b[0m\u001b[0;34m\u001b[0m\u001b[0;34m\u001b[0m\u001b[0m\n\u001b[0;32m---> 33\u001b[0;31m \u001b[0;32mfor\u001b[0m \u001b[0mkey\u001b[0m\u001b[0;34m,\u001b[0m \u001b[0mvalue\u001b[0m \u001b[0;32min\u001b[0m \u001b[0mcounts\u001b[0m\u001b[0;34m.\u001b[0m\u001b[0mitems\u001b[0m\u001b[0;34m(\u001b[0m\u001b[0;34m)\u001b[0m\u001b[0;34m:\u001b[0m\u001b[0;34m\u001b[0m\u001b[0m\n\u001b[0m\u001b[1;32m     34\u001b[0m     \u001b[0;32mif\u001b[0m \u001b[0mvalue\u001b[0m \u001b[0;34m==\u001b[0m \u001b[0;36m1\u001b[0m\u001b[0;34m:\u001b[0m\u001b[0;34m\u001b[0m\u001b[0m\n\u001b[1;32m     35\u001b[0m         \u001b[0;32mdel\u001b[0m \u001b[0mcounts\u001b[0m\u001b[0;34m[\u001b[0m\u001b[0mkey\u001b[0m\u001b[0;34m]\u001b[0m\u001b[0;34m\u001b[0m\u001b[0m\n",
      "\u001b[0;31mRuntimeError\u001b[0m: dictionary changed size during iteration"
     ]
    }
   ],
   "source": [
    "# 9.03 Looping and Dictionaries\n",
    "\n",
    "# ---- Copied from 9.02 -----\n",
    "fname = \"text/moby_dick.txt\"\n",
    "fhand = open(fname)\n",
    "# Create a dictionary with all the words in the file as keys, and the number of occurences as values\n",
    "counts = dict()\n",
    "for line in fhand:\n",
    "    words = line.split()\n",
    "    for word in words:\n",
    "        if word not in counts:\n",
    "            counts[word] = 1\n",
    "        else:\n",
    "            counts[word] += 1\n",
    "# ---- ----- ----- ----- ----- ----- ----- \n",
    "\n",
    "# Find how many times \"nothing\" appears in the text\n",
    "for key in counts:          # traverses the key of the dictionary\n",
    "    if key == \"nothing\":\n",
    "        print(\"There are {} instances of \\'nothing\\'\".format(counts[key]))\n",
    "\n",
    "print(\"---\")\n",
    "# Create a new dictionary with only the words that appear twice re more.\n",
    "d = dict()\n",
    "for key, value in counts.items():\n",
    "    if value > 1:\n",
    "        d[key] = value\n",
    "print(d)          # pretty printing\n",
    "\n",
    "\n",
    "# Delete all the words tha only appear once form 'counts'\n",
    "# This will result in an error. You cannot change the dictionary while you are iterating through it.\n",
    "for key, value in counts.items():\n",
    "    if value == 1:\n",
    "        del counts[key]\n"
   ]
  },
  {
   "cell_type": "code",
   "execution_count": 80,
   "metadata": {
    "collapsed": false
   },
   "outputs": [
    {
     "name": "stdout",
     "output_type": "stream",
     "text": [
      "{   'a': 5,\n",
      "    'about': 2,\n",
      "    'account': 1,\n",
      "    'ago—never': 1,\n",
      "    'all': 1,\n",
      "    'almost': 1,\n",
      "    'an': 1,\n",
      "    'and': 7,\n",
      "    'as': 2,\n",
      "    'ball': 1,\n",
      "    'before': 1,\n",
      "    'bringing': 1,\n",
      "    'but': 1,\n",
      "    'call': 1,\n",
      "    'can': 1,\n",
      "    'cato': 1,\n",
      "    'cherish': 1,\n",
      "    'circulation': 1,\n",
      "    'coffin': 1,\n",
      "    'damp': 1,\n",
      "    'degree': 1,\n",
      "    'deliberately': 1,\n",
      "    'driving': 1,\n",
      "    'drizzly': 1,\n",
      "    'especially': 1,\n",
      "    'every': 1,\n",
      "    'feelings': 1,\n",
      "    'find': 2,\n",
      "    'flourish': 1,\n",
      "    'for': 1,\n",
      "    'from': 1,\n",
      "    'funeral': 1,\n",
      "    'get': 2,\n",
      "    'grim': 1,\n",
      "    'growing': 1,\n",
      "    'hand': 1,\n",
      "    'hats': 1,\n",
      "    'have': 1,\n",
      "    'high': 1,\n",
      "    'himself': 1,\n",
      "    'his': 1,\n",
      "    'how': 1,\n",
      "    'hypos': 1,\n",
      "    'i': 9,\n",
      "    'if': 1,\n",
      "    'in': 4,\n",
      "    'interest': 1,\n",
      "    'into': 1,\n",
      "    'involuntarily': 1,\n",
      "    'is': 4,\n",
      "    'ishmael': 1,\n",
      "    'it': 5,\n",
      "    'knew': 1,\n",
      "    'knocking': 1,\n",
      "    'little': 2,\n",
      "    'long': 1,\n",
      "    'me': 5,\n",
      "    'meet': 1,\n",
      "    'men': 1,\n",
      "    'methodically': 1,\n",
      "    'mind': 1,\n",
      "    'money': 1,\n",
      "    'moral': 1,\n",
      "    'mouth': 1,\n",
      "    'my': 4,\n",
      "    'myself': 2,\n",
      "    'nearly': 1,\n",
      "    'no': 1,\n",
      "    'nothing': 2,\n",
      "    'november': 1,\n",
      "    'ocean': 1,\n",
      "    'of': 4,\n",
      "    'off': 1,\n",
      "    'off—then': 1,\n",
      "    'on': 1,\n",
      "    'or': 2,\n",
      "    'other': 1,\n",
      "    'part': 1,\n",
      "    'particular': 1,\n",
      "    'pausing': 1,\n",
      "    'peoples': 1,\n",
      "    'philosophical': 1,\n",
      "    'pistol': 1,\n",
      "    'precisely—having': 1,\n",
      "    'prevent': 1,\n",
      "    'principle': 1,\n",
      "    'purse': 1,\n",
      "    'quietly': 1,\n",
      "    'rear': 1,\n",
      "    'regulating': 1,\n",
      "    'requires': 1,\n",
      "    'sail': 1,\n",
      "    'same': 1,\n",
      "    'sea': 1,\n",
      "    'see': 1,\n",
      "    'ship': 1,\n",
      "    'shore': 1,\n",
      "    'some': 2,\n",
      "    'soon': 1,\n",
      "    'soul': 1,\n",
      "    'spleen': 1,\n",
      "    'stepping': 1,\n",
      "    'street': 1,\n",
      "    'strong': 1,\n",
      "    'substitute': 1,\n",
      "    'such': 1,\n",
      "    'surprising': 1,\n",
      "    'sword': 1,\n",
      "    'take': 1,\n",
      "    'that': 1,\n",
      "    'the': 10,\n",
      "    'their': 1,\n",
      "    'there': 1,\n",
      "    'they': 1,\n",
      "    'this': 2,\n",
      "    'thought': 1,\n",
      "    'throws': 1,\n",
      "    'time': 2,\n",
      "    'to': 5,\n",
      "    'towards': 1,\n",
      "    'up': 1,\n",
      "    'upon': 1,\n",
      "    'upper': 1,\n",
      "    'very': 1,\n",
      "    'warehouses': 1,\n",
      "    'watery': 1,\n",
      "    'way': 1,\n",
      "    'whenever': 4,\n",
      "    'with': 2,\n",
      "    'world': 1,\n",
      "    'would': 1,\n",
      "    'years': 1}\n"
     ]
    }
   ],
   "source": [
    "# 9.04 Advanced Text Parsing\n",
    "\n",
    "# Here's the code from the text book.\n",
    "# You will be learning a better method for cleaning up text data later using Natual Language Processing.\n",
    "\n",
    "import string\n",
    "import pprint                                  # pretty prnting for debugging\n",
    "pp = pprint.PrettyPrinter(indent=4)            # create a pretty printing object used for debugging.\n",
    "\n",
    "fname = \"text/moby_dick.txt\"\n",
    "fhand = open(fname)\n",
    "\n",
    "counts = dict()\n",
    "for line in fhand:\n",
    "    line = line.rstrip()   # returns a copy of the string 'line' with trailing chracters removed.\n",
    "\n",
    "    # the following line removes all the punctuation chracters from the line.\n",
    "    # for now, you don't need to know how exactly this works.\n",
    "    line = line.translate(line.maketrans('', '', string.punctuation))\n",
    "    line = line.lower()    # return a copy of the string 'line' in all lower cases.\n",
    "    words = line.split()   # create a list of words from the string 'line'.\n",
    "    \n",
    "    for word in words:\n",
    "        if word not in counts:\n",
    "            counts[word] = 1\n",
    "        else:\n",
    "            counts[word] += 1\n",
    "pp.pprint(counts)\n",
    "# print(counts['me,'])\n",
    "\n"
   ]
  },
  {
   "cell_type": "code",
   "execution_count": null,
   "metadata": {
    "collapsed": true
   },
   "outputs": [],
   "source": []
  }
 ],
 "metadata": {
  "kernelspec": {
   "display_name": "Python 3",
   "language": "python",
   "name": "python3"
  },
  "language_info": {
   "codemirror_mode": {
    "name": "ipython",
    "version": 3
   },
   "file_extension": ".py",
   "mimetype": "text/x-python",
   "name": "python",
   "nbconvert_exporter": "python",
   "pygments_lexer": "ipython3",
   "version": "3.5.1"
  }
 },
 "nbformat": 4,
 "nbformat_minor": 0
}
