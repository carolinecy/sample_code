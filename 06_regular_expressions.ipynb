{
 "cells": [
  {
   "cell_type": "markdown",
   "metadata": {},
   "source": [
    "# Regular Expressions—Very Simple Examples\n",
    "\n",
    "The following page shows a complete list of special chracters used in regular expressions:\n",
    "\n",
    "https://docs.python.org/3/library/re.html"
   ]
  },
  {
   "cell_type": "code",
   "execution_count": 2,
   "metadata": {
    "collapsed": false
   },
   "outputs": [
    {
     "name": "stdout",
     "output_type": "stream",
     "text": [
      "gimmicks\n",
      "to deceive\n",
      "2 + 2 = 6\n",
      "134\n",
      "143\n"
     ]
    }
   ],
   "source": [
    "# Using 're.search()' \n",
    "import re\n",
    "\n",
    "s = \"\"\"\n",
    "Republicans and Democrats have used accounting gimmicks and competing \n",
    "government analyses to deceive the public into believing that 2 + 2 = 6. If \n",
    "our leaders cannot agree on the numbers, if \\'facts\\' are fictional, how can \n",
    "they possibly have a substantive debate on solutions? - J. C. Watts\n",
    "\"\"\"\n",
    "\n",
    "# re.search() function\n",
    "res = re.search('gimmicks', s)  # 'gimmicks' (literal match)\n",
    "if res != None:\n",
    "    print(res.group())\n",
    "\n",
    "# re.search() function\n",
    "res = re.search('to\\\\s\\w+', s)   # 'to' followed by a single space ('\\\\s') followed by multiple chraacters ('\\w+')\n",
    "if res != None:\n",
    "    print(res.group())\n",
    "\n",
    "# re.search() function\n",
    "res = re.search('[0-9].*[0-9]', s)  # 2 numbers with any number of chracters between them.\n",
    "if res != None:\n",
    "    print(res.group())\n"
   ]
  },
  {
   "cell_type": "code",
   "execution_count": 30,
   "metadata": {
    "collapsed": false
   },
   "outputs": [
    {
     "name": "stdout",
     "output_type": "stream",
     "text": [
      "gimmicks\n",
      "47\n",
      "55\n",
      "(47, 55)\n",
      "Republicans and Democrats have used accounting gimmicks and competing \n",
      "government analyses to deceive the public into believing that 2 + 2 = 6. If \n",
      "our leaders cannot agree on the numbers, if 'facts' are fictional, how can \n",
      "they possibly have a substantive debate on solutions? - J. C. Watts\n",
      "\n"
     ]
    }
   ],
   "source": [
    "# Working with Match Objects...\n",
    "import re\n",
    "\n",
    "s = \"\"\"Republicans and Democrats have used accounting gimmicks and competing \n",
    "government analyses to deceive the public into believing that 2 + 2 = 6. If \n",
    "our leaders cannot agree on the numbers, if \\'facts\\' are fictional, how can \n",
    "they possibly have a substantive debate on solutions? - J. C. Watts\n",
    "\"\"\"\n",
    "\n",
    "# re.search() returns a match object, if there is a match.\n",
    "# if there is no match, it returns 'None'\n",
    "res = re.search('gimmicks', s)  # 'gimmicks' (literal match)\n",
    "\n",
    "# Note — 'res' is a variable that is now holding a Match Object (if there is a match)\n",
    "\n",
    "if res != None:          # if 'res' is not equal to 'None' (meaning there is a match)\n",
    "    print(res.group())   # If there is one matching group, group() returns a string. This is usually the case.\n",
    "    print(res.start())   # the starting index of the match\n",
    "    print(res.end())     # the ending index of the match\n",
    "    print(res.span())    # a tuple with the starting and the ending indexes.\n",
    "    print(res.string)    # returns the original string passed to the function\n"
   ]
  },
  {
   "cell_type": "code",
   "execution_count": 36,
   "metadata": {
    "collapsed": false
   },
   "outputs": [
    {
     "name": "stdout",
     "output_type": "stream",
     "text": [
      "['my purse', 'my soul', 'my hypos', 'my substitute']\n",
      "----\n",
      "my purse\n",
      "my soul\n",
      "my hypos\n",
      "my substitute\n"
     ]
    }
   ],
   "source": [
    "# Using 're.findall()' and 're.finditer()' functions\n",
    "\n",
    "fin = open(\"text/moby_dick.txt\")  # open a file\n",
    "s = fin.read()                    # read the entire text and assign it to 's'. It's a string.\n",
    "\n",
    "matches = re.findall(\"my\\\\s\\w+\", s)   # find all 2 word sequence that starts wtih 'my' in 's'.\n",
    "print(matches)                        # re.findall() returns a list of matched strings.\n",
    "print(\"----\")\n",
    "for match in matches:                 # loop through the items in the list of matches ('res')\n",
    "    print(match)\n",
    "    "
   ]
  },
  {
   "cell_type": "code",
   "execution_count": 35,
   "metadata": {
    "collapsed": false
   },
   "outputs": [
    {
     "name": "stdout",
     "output_type": "stream",
     "text": [
      "----\n",
      "my purse\n",
      "my soul\n",
      "my hypos\n",
      "my substitute\n"
     ]
    }
   ],
   "source": [
    "\n",
    "fin = open(\"text/moby_dick.txt\")  # open a file\n",
    "s = fin.read()                    # read the entire text and assign it to 's'. It's a string.\n",
    "\n",
    "print(\"----\")\n",
    "for m in re.finditer(\"my\\\\s\\w+\", s):      # finditer() let you loop through matches easily\n",
    "                                          # 's' is a Match Object \n",
    "    print(m.group())                      \n",
    "    "
   ]
  },
  {
   "cell_type": "code",
   "execution_count": null,
   "metadata": {
    "collapsed": true
   },
   "outputs": [],
   "source": []
  }
 ],
 "metadata": {
  "kernelspec": {
   "display_name": "Python 3",
   "language": "python",
   "name": "python3"
  },
  "language_info": {
   "codemirror_mode": {
    "name": "ipython",
    "version": 3
   },
   "file_extension": ".py",
   "mimetype": "text/x-python",
   "name": "python",
   "nbconvert_exporter": "python",
   "pygments_lexer": "ipython3",
   "version": "3.5.1"
  }
 },
 "nbformat": 4,
 "nbformat_minor": 0
}
